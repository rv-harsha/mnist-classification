{
 "cells": [
  {
   "cell_type": "markdown",
   "source": [
    "### Importing the standard libraries"
   ],
   "metadata": {}
  },
  {
   "cell_type": "code",
   "execution_count": 2,
   "source": [
    "#Author : Digbalay Bose\n",
    "#importing all the standard packages (numpy, torch, torchvision)\n",
    "import matplotlib.pyplot as plt\n",
    "import numpy as np\n",
    "\n",
    "#torch,torchvision, torchvision transforms\n",
    "import torch\n",
    "import torchvision\n",
    "import torchvision.transforms as transforms\n",
    "\n",
    "import torch.nn as nn\n",
    "import torch.nn.functional as F #useful library for operations like relu \n",
    "import torch.optim as optim"
   ],
   "outputs": [],
   "metadata": {}
  },
  {
   "cell_type": "markdown",
   "source": [
    "### Setting up tensorboard"
   ],
   "metadata": {}
  },
  {
   "cell_type": "code",
   "execution_count": 1,
   "source": [
    "from torch.utils.tensorboard import SummaryWriter\n",
    "writer = SummaryWriter('runs/fashion_mnist_experiment_run')"
   ],
   "outputs": [],
   "metadata": {}
  },
  {
   "cell_type": "markdown",
   "source": [
    "### Helper function for plotting images in a grid "
   ],
   "metadata": {}
  },
  {
   "cell_type": "code",
   "execution_count": 3,
   "source": [
    "def matplotlib_imshow(img, one_channel=False):\n",
    "    if one_channel:\n",
    "        img = img.mean(dim=0)\n",
    "    img = img / 2 + 0.5     # unnormalize (inverse operation of normalization transform)\n",
    "    npimg = img.numpy()\n",
    "    if one_channel:\n",
    "        plt.imshow(npimg, cmap=\"Greys\")\n",
    "    else:\n",
    "        plt.imshow(np.transpose(npimg, (1, 2, 0)))"
   ],
   "outputs": [],
   "metadata": {}
  },
  {
   "cell_type": "markdown",
   "source": [
    "### List of transforms to be applied to the dataset"
   ],
   "metadata": {}
  },
  {
   "cell_type": "code",
   "execution_count": 4,
   "source": [
    "# transforms\n",
    "transform = transforms.Compose(\n",
    "    [transforms.ToTensor(),\n",
    "    transforms.Normalize((0.5,), (0.5,))]) #transforms to be used for datasets "
   ],
   "outputs": [],
   "metadata": {}
  },
  {
   "cell_type": "markdown",
   "source": [
    "### Declaring the fashionmnist train, test and validation datasets"
   ],
   "metadata": {}
  },
  {
   "cell_type": "code",
   "execution_count": 5,
   "source": [
    "# acquiring the fashionmnist datasets\n",
    "dataset = torchvision.datasets.FashionMNIST('../../../../discussion_pytorch/data',\n",
    "    download=True,\n",
    "    train=True,\n",
    "    transform=transform) #if not downloaded, downloads the fashionmnist data to a /data directory in the same folder\n",
    "testset = torchvision.datasets.FashionMNIST('../../../../discussion_pytorch/data',\n",
    "    download=True,\n",
    "    train=False,\n",
    "    transform=transform)#if not downloaded, downloads the fashionmnist data to a /data directory in the same folder\n",
    "## Don't touch the test data \n",
    "\n",
    "\n",
    "split_ratio=0.8 #80-20 train/validation split \n",
    "length_train=int(split_ratio*len(dataset)) #number of training samples \n",
    "length_valid=len(dataset)-length_train #number of validation samples \n",
    "\n",
    "trainset, valset = torch.utils.data.random_split(dataset, [length_train, length_valid])\n",
    "\n"
   ],
   "outputs": [],
   "metadata": {}
  },
  {
   "cell_type": "markdown",
   "source": [
    "### Declaring the train validation and test dataloaders"
   ],
   "metadata": {}
  },
  {
   "cell_type": "code",
   "execution_count": 6,
   "source": [
    "# dataloaders\n",
    "#shuffle enabled as True for the train dataloader\n",
    "trainloader = torch.utils.data.DataLoader(trainset, batch_size=64,\n",
    "                                        shuffle=True)\n",
    "\n",
    "#shuffle enabled as False for the valid dataloader\n",
    "valloader = torch.utils.data.DataLoader(valset, batch_size=64,\n",
    "                                        shuffle=False) \n",
    "\n",
    "#shuffle enabled as False for the test dataloader\n",
    "testloader = torch.utils.data.DataLoader(testset, batch_size=64,\n",
    "                                        shuffle=False) \n"
   ],
   "outputs": [],
   "metadata": {}
  },
  {
   "cell_type": "markdown",
   "source": [
    "### Declaring the list of classes in fashionmnist"
   ],
   "metadata": {}
  },
  {
   "cell_type": "code",
   "execution_count": 7,
   "source": [
    "classes = ('T-shirt/top', 'Trouser', 'Pullover', 'Dress', 'Coat',\n",
    "        'Sandal', 'Shirt', 'Sneaker', 'Bag', 'Ankle Boot') #classes for fashion mnist"
   ],
   "outputs": [],
   "metadata": {}
  },
  {
   "cell_type": "markdown",
   "source": [
    "### Checking the number of training, validation and testing images"
   ],
   "metadata": {}
  },
  {
   "cell_type": "code",
   "execution_count": 8,
   "source": [
    "#inspecting the length of datasets (test and train datasets)\n",
    "num_train_samples=len(trainset)\n",
    "print(num_train_samples)\n",
    "num_test_samples=len(testset)\n",
    "print(num_test_samples)\n",
    "num_val_samples=len(valset)\n",
    "print(num_val_samples)"
   ],
   "outputs": [
    {
     "output_type": "stream",
     "name": "stdout",
     "text": [
      "48000\n",
      "10000\n",
      "12000\n"
     ]
    }
   ],
   "metadata": {}
  },
  {
   "cell_type": "markdown",
   "source": [
    "### Check batches from dataloader"
   ],
   "metadata": {}
  },
  {
   "cell_type": "code",
   "execution_count": 10,
   "source": [
    "inputs,labels=next(iter(trainloader)) #generate a single batch from trainloader \n",
    "print(len(trainloader)) #number of batches \n",
    "48000//64 #no of samples // batch_size"
   ],
   "outputs": [
    {
     "output_type": "stream",
     "name": "stdout",
     "text": [
      "750\n"
     ]
    },
    {
     "output_type": "execute_result",
     "data": {
      "text/plain": [
       "750"
      ]
     },
     "metadata": {},
     "execution_count": 10
    }
   ],
   "metadata": {}
  },
  {
   "cell_type": "markdown",
   "source": [
    "### Inspect the input images generated from dataloader"
   ],
   "metadata": {}
  },
  {
   "cell_type": "code",
   "execution_count": 11,
   "source": [
    "print(inputs.size())\n",
    "#inputs=inputs.numpy() #convert from tensor to numpy array\n",
    "#plot the images here\n",
    "#will be later used in tensorboard plot"
   ],
   "outputs": [
    {
     "output_type": "stream",
     "name": "stdout",
     "text": [
      "torch.Size([64, 1, 28, 28])\n"
     ]
    }
   ],
   "metadata": {}
  },
  {
   "cell_type": "markdown",
   "source": [
    "### Use tensorboard for displaying the images "
   ],
   "metadata": {}
  },
  {
   "cell_type": "code",
   "execution_count": 12,
   "source": [
    "# create grid of images\n",
    "img_grid = torchvision.utils.make_grid(inputs)\n",
    "\n",
    "# show images\n",
    "matplotlib_imshow(img_grid, one_channel=True)\n",
    "\n",
    "# write to tensorboard\n",
    "writer.add_image('four_fashion_mnist_images', img_grid)"
   ],
   "outputs": [
    {
     "output_type": "display_data",
     "data": {
      "image/png": "[encoded data removed]",
      "text/plain": [
       "<Figure size 432x288 with 1 Axes>"
      ]
     },
     "metadata": {
      "needs_background": "light"
     }
    }
   ],
   "metadata": {}
  },
  {
   "cell_type": "markdown",
   "source": [
    "### Network architecture "
   ],
   "metadata": {}
  },
  {
   "cell_type": "code",
   "execution_count": 15,
   "source": [
    "#Declaring the network architecture \n",
    "class Net(nn.Module):\n",
    "    def __init__(self):\n",
    "        super(Net, self).__init__()  #declare all layers\n",
    "        self.linear_1=nn.Linear(784,128) #input_dimensions x output_dimensions\n",
    "        self.linear_2=nn.Linear(128,10)\n",
    "    def forward(self,x):\n",
    "        #x is a single batch (batch_size,28,28,1)\n",
    "        x=x.squeeze(1)# removing the 1 in input batch (resizing from (batch_size,1,28,28) to (batch_size,28,28))\n",
    "        x=x.view(-1,28*28) #resizing from (batch_size,28*28) to (batch_size,784)\n",
    "        x=self.linear_1(x) #passing through linear layer (784*128)\n",
    "        x=F.relu(x) #passing through relu activation\n",
    "        x=self.linear_2(x) #passing through output linear layer \n",
    "        return(x)"
   ],
   "outputs": [],
   "metadata": {}
  },
  {
   "cell_type": "code",
   "execution_count": 16,
   "source": [
    "net=Net()"
   ],
   "outputs": [],
   "metadata": {}
  },
  {
   "cell_type": "code",
   "execution_count": 17,
   "source": [
    "net"
   ],
   "outputs": [
    {
     "output_type": "execute_result",
     "data": {
      "text/plain": [
       "Net(\n",
       "  (linear_1): Linear(in_features=784, out_features=128, bias=True)\n",
       "  (linear_2): Linear(in_features=128, out_features=10, bias=True)\n",
       ")"
      ]
     },
     "metadata": {},
     "execution_count": 17
    }
   ],
   "metadata": {}
  },
  {
   "cell_type": "markdown",
   "source": [
    "### Adding model to tensorboard"
   ],
   "metadata": {}
  },
  {
   "cell_type": "code",
   "execution_count": 18,
   "source": [
    "writer.add_graph(net, inputs)\n",
    "writer.close()"
   ],
   "outputs": [],
   "metadata": {}
  },
  {
   "cell_type": "markdown",
   "source": [
    "### Device selection"
   ],
   "metadata": {}
  },
  {
   "cell_type": "code",
   "execution_count": 21,
   "source": [
    "### Device selection\n",
    "device = torch.device('cuda:0' if torch.cuda.is_available() else 'cpu')\n",
    "print(device)\n",
    "net=net.to(device)"
   ],
   "outputs": [
    {
     "output_type": "stream",
     "name": "stdout",
     "text": [
      "cpu\n"
     ]
    }
   ],
   "metadata": {}
  },
  {
   "cell_type": "markdown",
   "source": [
    "### Model layout using torchsummary "
   ],
   "metadata": {}
  },
  {
   "cell_type": "code",
   "execution_count": 20,
   "source": [
    "from torchsummary import summary\n",
    "summary(net,(1,28,28))"
   ],
   "outputs": [
    {
     "output_type": "stream",
     "name": "stdout",
     "text": [
      "----------------------------------------------------------------\n",
      "        Layer (type)               Output Shape         Param #\n",
      "================================================================\n",
      "            Linear-1                  [-1, 128]         100,480\n",
      "            Linear-2                   [-1, 10]           1,290\n",
      "================================================================\n",
      "Total params: 101,770\n",
      "Trainable params: 101,770\n",
      "Non-trainable params: 0\n",
      "----------------------------------------------------------------\n",
      "Input size (MB): 0.00\n",
      "Forward/backward pass size (MB): 0.00\n",
      "Params size (MB): 0.39\n",
      "Estimated Total Size (MB): 0.39\n",
      "----------------------------------------------------------------\n"
     ]
    }
   ],
   "metadata": {}
  },
  {
   "cell_type": "markdown",
   "source": [
    "### Testing function "
   ],
   "metadata": {}
  },
  {
   "cell_type": "code",
   "execution_count": 24,
   "source": [
    "#defining the test/validation loop here \n",
    "#eval_model function runs the test/validation on the given data \n",
    "def eval_model(model,loader,criterion,device):\n",
    "    \"\"\"model: instance of model class \n",
    "       loader: test dataloader\n",
    "       criterion: loss function\n",
    "       device: CPU/GPU\n",
    "    \"\"\"\n",
    "    model.eval() #needed to run the model in eval mode to freeze all the layers\n",
    "    correct=0\n",
    "    total=0\n",
    "    total_loss=0\n",
    "    with torch.no_grad():\n",
    "        total=0\n",
    "        correct=0\n",
    "        for idx,(inputs,labels) in enumerate(loader):\n",
    "            inputs=inputs.to(device)\n",
    "            labels=labels.to(device)\n",
    "            outputs=model(inputs)\n",
    "            outputs=F.softmax(outputs,dim=1)\n",
    "            val_loss=criterion(outputs,labels)\n",
    "            total_loss=total_loss+val_loss\n",
    "            preds=torch.max(outputs,dim=1)[1]\n",
    "            \n",
    "            correct=correct+(preds==labels).cpu().sum().numpy() \n",
    "            total=total+len(labels)\n",
    "    Accuracy=100*(correct/total)\n",
    "    fin_loss=total_loss/(len(loader))\n",
    "    \n",
    "    return(Accuracy,fin_loss)\n"
   ],
   "outputs": [],
   "metadata": {}
  },
  {
   "cell_type": "markdown",
   "source": [
    "### Loss function and optimizer definition"
   ],
   "metadata": {}
  },
  {
   "cell_type": "code",
   "execution_count": 25,
   "source": [
    "#defining loss and optimizer \n",
    "criterion = nn.CrossEntropyLoss()\n",
    "optimizer = optim.Adam(net.parameters(), lr=0.001)"
   ],
   "outputs": [],
   "metadata": {}
  },
  {
   "cell_type": "markdown",
   "source": [
    "### Main training loop"
   ],
   "metadata": {}
  },
  {
   "cell_type": "code",
   "execution_count": 26,
   "source": [
    "num_epochs=5\n",
    "net=net.to(device)\n",
    "train_loss_list=[]\n",
    "train_acc_list=[]\n",
    "val_loss_list=[]\n",
    "val_acc_list=[]\n",
    "best_val_acc=0\n",
    "\n",
    "#TRAINING LOOP\n",
    "for i in np.arange(num_epochs): #outer loop \n",
    "    train_loss=0.0\n",
    "    correct=0\n",
    "    for idx,(inputs,labels) in enumerate(trainloader): #inner loop for data loader\n",
    "        #sending inputs and labels to device \n",
    "        inputs=inputs.to(device)\n",
    "        labels=labels.to(device)\n",
    "        \n",
    "        #zero out the gradients to avoid any accumulation during backprop\n",
    "        optimizer.zero_grad()\n",
    "        \n",
    "        #forward pass through the network\n",
    "        outputs = net(inputs) #batch_size x 10\n",
    "        \n",
    "        #compute the loss between ground truth labels and outputs\n",
    "        loss = criterion(outputs, labels)\n",
    "        \n",
    "        loss.backward() #computes derivative of loss for every variable (gradients)\n",
    "        optimizer.step() #optimizer updates based on gradients \n",
    "        \n",
    "        preds=torch.max(outputs,dim=1)[1] # obtaining the predicted class (dimension of outputs is batch_size x number of classes)\n",
    "        correct=correct+(preds==labels).cpu().sum().numpy() #.cpu() transfers tensors from GPU to CPU\n",
    "        train_loss=train_loss+loss.item()\n",
    "        \n",
    "        \n",
    "        \n",
    "        \n",
    "    train_loss=train_loss/len(trainloader) #computing the total loss for the entire training set\n",
    "    train_accuracy=100*(correct/len(trainloader.dataset)) #train accuracy for the dataset\n",
    "    val_accuracy,val_loss=eval_model(net,valloader,criterion,device) #validation accuracy, validation loss for the entire validation set \n",
    "    \n",
    "    writer.add_scalar('training loss',\n",
    "                            train_loss,i+1)\n",
    "    \n",
    "    train_loss_list.append(train_loss)\n",
    "    train_acc_list.append(train_accuracy)\n",
    "    val_loss_list.append(val_loss)\n",
    "    val_acc_list.append(val_accuracy)\n",
    "    net.train(True)\n",
    "    print('Epoch:%d,Train Loss:%f,Training Accuracy:%f,Validation Accuracy:%f'%(i+1,train_loss,train_accuracy,val_accuracy))\n",
    "    if(val_accuracy > best_val_acc):\n",
    "        print('Saving the best model')\n",
    "        best_val_acc=val_accuracy\n",
    "        torch.save({\n",
    "            'epoch': i+1,\n",
    "            'model_state_dict': net.state_dict(),\n",
    "            'optimizer_state_dict': optimizer.state_dict(),\n",
    "            'loss': train_loss}, 'fashionmnist_best_model.pth') #saving all the required information in .pth file (required for restarting models later)\n",
    "        \n",
    "\n",
    "writer.close()\n"
   ],
   "outputs": [
    {
     "output_type": "stream",
     "name": "stdout",
     "text": [
      "Epoch:1,Train Loss:0.391506,Training Accuracy:85.727083,Validation Accuracy:86.575000\n",
      "Saving the best model\n",
      "Epoch:2,Train Loss:0.351995,Training Accuracy:87.066667,Validation Accuracy:86.375000\n",
      "Epoch:3,Train Loss:0.324589,Training Accuracy:87.991667,Validation Accuracy:87.641667\n",
      "Saving the best model\n",
      "Epoch:4,Train Loss:0.305514,Training Accuracy:88.675000,Validation Accuracy:87.208333\n",
      "Epoch:5,Train Loss:0.290079,Training Accuracy:89.168750,Validation Accuracy:88.216667\n",
      "Saving the best model\n"
     ]
    }
   ],
   "metadata": {}
  },
  {
   "cell_type": "markdown",
   "source": [
    "### Plot the training and test performance"
   ],
   "metadata": {}
  },
  {
   "cell_type": "code",
   "execution_count": 27,
   "source": [
    "plt.figure()\n",
    "plt.plot(np.arange(num_epochs), train_loss_list, label='Training loss')\n",
    "plt.plot(np.arange(num_epochs), val_loss_list, label='Validation_loss')\n",
    "plt.xlabel('epochs')\n",
    "plt.ylabel('Multiclass Cross Entropy Loss')\n",
    "plt.legend()\n",
    "plt.show()\n",
    "#plt.savefig('learning_loss_fapi.png', dpi=256)"
   ],
   "outputs": [
    {
     "output_type": "display_data",
     "data": {
      "image/png": "[encoded data removed]",
      "text/plain": [
       "<Figure size 432x288 with 1 Axes>"
      ]
     },
     "metadata": {
      "needs_background": "light"
     }
    }
   ],
   "metadata": {}
  },
  {
   "cell_type": "code",
   "execution_count": 28,
   "source": [
    "plt.figure()\n",
    "plt.plot(np.arange(num_epochs), np.array(train_acc_list)/100, label='Training accuracy')\n",
    "plt.plot(np.arange(num_epochs), np.array(val_acc_list)/100, label='Validation accuracy')\n",
    "plt.xlabel('epochs')\n",
    "plt.ylabel('Accuracy')\n",
    "plt.legend()\n",
    "plt.show()"
   ],
   "outputs": [
    {
     "output_type": "display_data",
     "data": {
      "image/png": "[encoded data removed]",
      "text/plain": [
       "<Figure size 432x288 with 1 Axes>"
      ]
     },
     "metadata": {
      "needs_background": "light"
     }
    }
   ],
   "metadata": {}
  },
  {
   "cell_type": "markdown",
   "source": [
    "### Saving trained models "
   ],
   "metadata": {}
  },
  {
   "cell_type": "code",
   "execution_count": 29,
   "source": [
    "#saving the entire model \n",
    "torch.save(net,'fashionmnist_model.pth')"
   ],
   "outputs": [
    {
     "output_type": "stream",
     "name": "stderr",
     "text": [
      "/Users/digbalaybose/miniconda3/lib/python3.5/site-packages/torch/serialization.py:402: UserWarning: Couldn't retrieve source code for container of type Net. It won't be checked for correctness upon loading.\n",
      "  \"type \" + obj.__name__ + \". It won't be checked \"\n"
     ]
    }
   ],
   "metadata": {}
  },
  {
   "cell_type": "markdown",
   "source": [
    "### Loading saved models "
   ],
   "metadata": {}
  },
  {
   "cell_type": "code",
   "execution_count": 30,
   "source": [
    "### loading the saved entire model \n",
    "fashionmnist_model_total=torch.load('fashionmnist_model.pth')\n",
    "\n",
    "### loading the saved best model with state dict \n",
    "\n",
    "fashionmnist_best_model=Net() #declare the model class \n",
    "checkpoint=torch.load('fashionmnist_best_model.pth')\n",
    "fashionmnist_best_model.load_state_dict(checkpoint['model_state_dict'])"
   ],
   "outputs": [
    {
     "output_type": "execute_result",
     "data": {
      "text/plain": [
       "<All keys matched successfully>"
      ]
     },
     "metadata": {},
     "execution_count": 30
    }
   ],
   "metadata": {}
  },
  {
   "cell_type": "markdown",
   "source": [
    "### Running inference with the saved models "
   ],
   "metadata": {}
  },
  {
   "cell_type": "code",
   "execution_count": 31,
   "source": [
    "##inference with the saved entire model \n",
    "fashionmnist_model_total.eval()\n",
    "test_accuracy_total,test_loss_total=eval_model(fashionmnist_model_total,testloader,criterion,device)\n",
    "print('Test accuracy using the entire saved model:%f' %(test_accuracy_total))\n",
    "print('Test loss using the entire saved model:%f' %(test_loss_total))\n",
    "\n",
    "##inference with the best model loaded from state dict\n",
    "fashionmnist_best_model.eval()\n",
    "test_accuracy_best,test_loss_best=eval_model(fashionmnist_best_model,testloader,criterion,device)\n",
    "print('Test accuracy using the best saved model:%f' %(test_accuracy_best))\n",
    "print('Test loss using the best saved model:%f' %(test_loss_best))"
   ],
   "outputs": [
    {
     "output_type": "stream",
     "name": "stdout",
     "text": [
      "Test accuracy using the entire saved model:87.180000\n",
      "Test loss using the entire saved model:1.621104\n",
      "Test accuracy using the best saved model:87.180000\n",
      "Test loss using the best saved model:1.621104\n"
     ]
    }
   ],
   "metadata": {}
  },
  {
   "cell_type": "code",
   "execution_count": null,
   "source": [],
   "outputs": [],
   "metadata": {}
  }
 ],
 "metadata": {
  "kernelspec": {
   "display_name": "Python 3",
   "language": "python",
   "name": "python3"
  },
  "language_info": {
   "codemirror_mode": {
    "name": "ipython",
    "version": 3
   },
   "file_extension": ".py",
   "mimetype": "text/x-python",
   "name": "python",
   "nbconvert_exporter": "python",
   "pygments_lexer": "ipython3",
   "version": "3.5.5"
  }
 },
 "nbformat": 4,
 "nbformat_minor": 2
}